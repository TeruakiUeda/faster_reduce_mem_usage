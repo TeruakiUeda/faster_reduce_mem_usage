{
 "cells": [
  {
   "cell_type": "code",
   "execution_count": 1,
   "metadata": {},
   "outputs": [],
   "source": [
    "import pandas as pd\n",
    "import numpy as np\n",
    "import matplotlib.pyplot as plt\n",
    "import time\n",
    "import gc"
   ]
  },
  {
   "cell_type": "code",
   "execution_count": 2,
   "metadata": {},
   "outputs": [],
   "source": [
    "def reduce_mem_usage(df, verbose=True):\n",
    "    numerics = ['int16', 'int32', 'int64', 'float16', 'float32', 'float64']\n",
    "    start_mem = df.memory_usage().sum() / 1024**2 \n",
    "    dfs = []\n",
    "    for col in df.columns: #columns毎に処理\n",
    "        col_type = df[col].dtypes\n",
    "        if col_type in numerics: #numericsのデータ型の範囲内のときに処理を実行. データの最大最小値を元にデータ型を効率的なものに変更\n",
    "            c_min = df[col].min()\n",
    "            c_max = df[col].max()\n",
    "            if str(col_type)[:3] == 'int':\n",
    "                if c_min > np.iinfo(np.int8).min and c_max < np.iinfo(np.int8).max:\n",
    "                    dfs.append(df[col].astype(np.int8))\n",
    "                elif c_min > np.iinfo(np.int16).min and c_max < np.iinfo(np.int16).max:\n",
    "                    dfs.append(df[col].astype(np.int16))\n",
    "                elif c_min > np.iinfo(np.int32).min and c_max < np.iinfo(np.int32).max:\n",
    "                    dfs.append(df[col].astype(np.int32))\n",
    "                elif c_min > np.iinfo(np.int64).min and c_max < np.iinfo(np.int64).max:\n",
    "                    dfs.append(df[col].astype(np.int64) ) \n",
    "            else:\n",
    "                if c_min > np.finfo(np.float16).min and c_max < np.finfo(np.float16).max:\n",
    "                    dfs.append(df[col].astype(np.float16))\n",
    "                elif c_min > np.finfo(np.float32).min and c_max < np.finfo(np.float32).max:\n",
    "                    dfs.append(df[col].astype(np.float32))\n",
    "                else:\n",
    "                    dfs.append(df[col].astype(np.float64))\n",
    "        else:\n",
    "            dfs.append(df[col])\n",
    "    \n",
    "    df_out = pd.concat(dfs, axis=1)\n",
    "    if verbose:\n",
    "        end_mem = df_out.memory_usage().sum() / 1024**2\n",
    "        num_reduction = str(100 * (start_mem - end_mem) / start_mem)\n",
    "        print(f'Mem. usage decreased to {str(end_mem)[:3]}Mb:  {num_reduction[:2]}% reduction')\n",
    "    return df_out"
   ]
  },
  {
   "cell_type": "code",
   "execution_count": 3,
   "metadata": {},
   "outputs": [],
   "source": [
    "def reduce_mem_usage2(df, verbose=True):\n",
    "    numerics = ['int16', 'int32', 'int64', 'float16', 'float32', 'float64']\n",
    "    start_mem = df.memory_usage().sum() / 1024**2 \n",
    "    for col in df.columns: #columns毎に処理\n",
    "        col_type = df[col].dtypes\n",
    "        if col_type in numerics: #numericsのデータ型の範囲内のときに処理を実行. データの最大最小値を元にデータ型を効率的なものに変更\n",
    "            c_min = df[col].min()\n",
    "            c_max = df[col].max()\n",
    "            if str(col_type)[:3] == 'int':\n",
    "                if c_min > np.iinfo(np.int8).min and c_max < np.iinfo(np.int8).max:\n",
    "                    df[col] = df[col].astype(np.int8)\n",
    "                elif c_min > np.iinfo(np.int16).min and c_max < np.iinfo(np.int16).max:\n",
    "                    df[col] = df[col].astype(np.int16)\n",
    "                elif c_min > np.iinfo(np.int32).min and c_max < np.iinfo(np.int32).max:\n",
    "                    df[col] = df[col].astype(np.int32)\n",
    "                elif c_min > np.iinfo(np.int64).min and c_max < np.iinfo(np.int64).max:\n",
    "                    df[col] = df[col].astype(np.int64)  \n",
    "            else:\n",
    "                if c_min > np.finfo(np.float16).min and c_max < np.finfo(np.float16).max:\n",
    "                    df[col] = df[col].astype(np.float16)\n",
    "                elif c_min > np.finfo(np.float32).min and c_max < np.finfo(np.float32).max:\n",
    "                    df[col] = df[col].astype(np.float32)\n",
    "                else:\n",
    "                    df[col] = df[col].astype(np.float64) \n",
    "    \n",
    "    if verbose:\n",
    "        end_mem = df.memory_usage().sum() / 1024**2\n",
    "        num_reduction = str(100 * (start_mem - end_mem) / start_mem)\n",
    "        print(f'Mem. usage decreased to {str(end_mem)[:3]}Mb:  {num_reduction[:2]}% reduction')\n",
    "    return df"
   ]
  },
  {
   "cell_type": "code",
   "execution_count": 4,
   "metadata": {},
   "outputs": [],
   "source": [
    "def make_df(n_cols=10, n_rows=1000):\n",
    "    \"\"\"\n",
    "    shapeが(n_rows, n_cols)のdataframe作成\n",
    "    columnは np.int64, np.float64の型のものをそれぞれ n_cols//2 ずつ\n",
    "    \"\"\"\n",
    "    data = [np.arange(n_rows) for i in range(n_cols)]\n",
    "    df_out = pd.DataFrame(data,\n",
    "                          dtype=np.int64)\n",
    "    return df_out"
   ]
  },
  {
   "cell_type": "code",
   "execution_count": 5,
   "metadata": {},
   "outputs": [],
   "source": [
    "def measure_exp_time(func, df_input):\n",
    "    start = time.perf_counter()\n",
    "    func(df_input)\n",
    "    run_time = time.perf_counter() - start\n",
    "    return run_time\n",
    "\n",
    "\n",
    "def exp_run(ncols_list, n_rows, reduce_func, transpose=False):\n",
    "    t = []\n",
    "    for n_cols in ncols_list:\n",
    "        df = make_df(n_cols=n_cols, n_rows=n_rows)\n",
    "        if transpose:\n",
    "            df = df.T\n",
    "            \n",
    "        t.append(\n",
    "            measure_exp_time(reduce_func, df)\n",
    "        )\n",
    "        gc.collect()\n",
    "    \n",
    "    return t"
   ]
  },
  {
   "cell_type": "code",
   "execution_count": 6,
   "metadata": {},
   "outputs": [],
   "source": [
    "def print_result(ncols_list, n_rows, transpose):\n",
    "    exp1 = exp_run(ncols_list=ncols_list, \n",
    "                   n_rows=n_rows,\n",
    "                   reduce_func=reduce_mem_usage,\n",
    "                   transpose=False)\n",
    "\n",
    "\n",
    "    exp2 = exp_run(ncols_list=ncols_list, \n",
    "                   n_rows=n_rows,\n",
    "                   reduce_func=reduce_mem_usage2,\n",
    "                   transpose=False)\n",
    "\n",
    "\n",
    "\n",
    "    fig, ax = plt.subplots(figsize=(6,4))\n",
    "    ax.plot(ncols_list, exp1, label=\"concat[1]\")\n",
    "    ax.plot(ncols_list, exp2, label=\"overwrite[2]\")\n",
    "    \n",
    "    if transpose:\n",
    "        ax.set_title(f\"ncols : {n_rows}\")\n",
    "        ax.set_xlabel(\"n_rows\")\n",
    "    else:\n",
    "        ax.set_title(f\"nrows : {n_rows}\")\n",
    "        ax.set_xlabel(\"n_cols\")\n",
    "    ax.set_ylabel(\"time [s]\")\n",
    "\n",
    "    ax.legend()\n",
    "    plt.show()"
   ]
  },
  {
   "cell_type": "code",
   "execution_count": 7,
   "metadata": {},
   "outputs": [
    {
     "name": "stdout",
     "output_type": "stream",
     "text": [
      "Mem. usage decreased to 0.1Mb:  75% reduction\n",
      "Mem. usage decreased to 1.8Mb:  75% reduction\n",
      "Mem. usage decreased to 3.7Mb:  75% reduction\n",
      "Mem. usage decreased to 0.1Mb:  75% reduction\n",
      "Mem. usage decreased to 1.8Mb:  75% reduction\n",
      "Mem. usage decreased to 3.7Mb:  75% reduction\n"
     ]
    },
    {
     "data": {
      "image/png": "[encoded data removed]",
      "text/plain": [
       "<Figure size 432x288 with 1 Axes>"
      ]
     },
     "metadata": {
      "needs_background": "light"
     },
     "output_type": "display_data"
    }
   ],
   "source": [
    "n_rows = 10000\n",
    "ncols_list = [10, 100, 200]\n",
    "transpose=False\n",
    "print_result(ncols_list, n_rows, transpose)"
   ]
  },
  {
   "cell_type": "code",
   "execution_count": 8,
   "metadata": {},
   "outputs": [
    {
     "data": {
      "text/plain": [
       "'\\nn_rows = 10000\\nncols_list = [10, 100, 200]\\ntranspose=True\\nprint_result(ncols_list, n_rows, transpose)\\n'"
      ]
     },
     "execution_count": 8,
     "metadata": {},
     "output_type": "execute_result"
    }
   ],
   "source": [
    "\"\"\"\n",
    "n_rows = 10000\n",
    "ncols_list = [10, 100, 200]\n",
    "transpose=True\n",
    "print_result(ncols_list, n_rows, transpose)\n",
    "\"\"\""
   ]
  }
 ],
 "metadata": {
  "kernelspec": {
   "display_name": "Python 3",
   "language": "python",
   "name": "python3"
  },
  "language_info": {
   "codemirror_mode": {
    "name": "ipython",
    "version": 3
   },
   "file_extension": ".py",
   "mimetype": "text/x-python",
   "name": "python",
   "nbconvert_exporter": "python",
   "pygments_lexer": "ipython3",
   "version": "3.6.5"
  }
 },
 "nbformat": 4,
 "nbformat_minor": 4
}
